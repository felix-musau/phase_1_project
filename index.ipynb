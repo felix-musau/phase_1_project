{
 "cells": [
  {
   "cell_type": "markdown",
   "id": "0aaae9a2-e5cc-407f-918b-a7a1f09b5104",
   "metadata": {},
   "source": [
    "# HAZARD AND RISK ANALYSIS FOR AIRCRAFTS OPERATIONS"
   ]
  },
  {
   "cell_type": "markdown",
   "id": "111e9831-8781-4722-9cde-3961488a8502",
   "metadata": {},
   "source": [
    "## Introduction"
   ]
  },
  {
   "cell_type": "markdown",
   "id": "81cc3023-9cd9-493f-9a96-9293c0324919",
   "metadata": {},
   "source": [
    "The overrall safety of an aircraft is determined by  many factors. The choice of an aircraft impacts the safety, efficiency and profitability of a business.\n",
    "\n",
    "As the aviation industry is regularly a subject to unpredictable market conditions and mantainance challenges, understanding which type of aircrafts present lower risk is essential.\n",
    "\n",
    "Geographical locations and weather conditions among other forces of nature, also, can introduce operational hazards that impact flight safety and perfomance.\n",
    "\n",
    "In this analysis, I collected data from [kaggle](https://www.kaggle.com/datasets/khsamaha/aviation-accident-database-synopses) to visually represent these factors."
   ]
  },
  {
   "cell_type": "markdown",
   "id": "c19e17fb-4629-4108-8807-859116e87701",
   "metadata": {},
   "source": [
    "#### For a non-technical presentation of the data refer to this [link](https://github.com/felix-musau/phase_1_project/blob/main/presentation.pdf)\n",
    "#### for a Tableau presentation, refer to this [link](https://public.tableau.com/app/profile/felix.musau3046/viz/Aviation_analysis_17507632970630/Dashboard1)"
   ]
  },
  {
   "cell_type": "markdown",
   "id": "a41632c6-2f3b-4ff7-97fe-c195b9072a14",
   "metadata": {},
   "source": [
    "### Objectives\n",
    "- Data Cleaning\n",
    "- Perform Exploratory Data Analysis\n",
    "- To collect findings and visualize them\n",
    "- To come up with business recommendations and steps foward\n",
    "  "
   ]
  },
  {
   "cell_type": "markdown",
   "id": "78720ffb-6e5c-4fb5-a5bc-9aa13bdbf5b4",
   "metadata": {},
   "source": [
    "## 1. Business Understanding\n",
    "Accidents are mostly inevittable. However, identifying patterns that led to these accidents in the past may help tailor our decission as we dive into this industry.\n",
    "\n",
    "As a team aspiring to venture into the aviation industry, we are curious about:\n",
    "\n",
    "1. Is air as a mode of transport becoming safer with time\n",
    "2. What is the effect of weather conditions to aircraft accidents\n",
    "3. Do varying engine types present different levels of risk\n",
    "4. Is there a correlation between an aircraft make and its damage\n",
    "5. Effect of flight purpose to accidents\n",
    "6. What category of an aircraft is safer"
   ]
  },
  {
   "cell_type": "markdown",
   "id": "a34dfbf6-0dc3-4a44-bdad-33627db7bb13",
   "metadata": {},
   "source": [
    "## 2. Data Understanding\n",
    "For this research, we collected data from kaggle which contains information from 1962 and later about civil aviation accidents and selected incidents within the United States, its territories and possesions, and in international waters.\n",
    "\n",
    "Each record(row) represents information about a certain plane accident incident.\n",
    "\n",
    "Each column contains a different type of data related to that incident. We are mostly dealing with the following columns:\n",
    "\n",
    "- `Event.Date` : The date when the accident occured\n",
    "- `Location` : The state/ exact place where the accident occured\n",
    "- `Airport.Name` : The airport where the subject plane took off from\n",
    "- `Injury.Severity` : How critical were the inuries from the accident\n",
    "- `Aircraft.Damage` : The impact of the crash on the plane\n",
    "- `Make` : The type of aircraft\n",
    "- `Total.Fatal.Injuries` \n",
    "- `Total.Serious.Injuries`\n",
    "- `Total.Minor.Injuries`\n",
    "- `Total.Uninjured`\n",
    "- `Weather.Condition`\n",
    "  \n",
    "Among other categories as we shall explore later in the analysis"
   ]
  },
  {
   "cell_type": "markdown",
   "id": "caaa6fa9-5a05-42b5-ad2d-e4802858e454",
   "metadata": {},
   "source": [
    "## Loading the dataset"
   ]
  },
  {
   "cell_type": "code",
   "execution_count": 8,
   "id": "3fcce712-9f5a-4648-867c-77e1a4d3fd3c",
   "metadata": {},
   "outputs": [],
   "source": [
    "# We import the required python libraries which will be used in this analysis\n",
    "#Importing pandas\n",
    "import pandas as pd\n",
    "# importing numpy\n",
    "import numpy as np\n",
    "#importing seaborn\n",
    "import seaborn as sns\n",
    "#import matplotlib\n",
    "import matplotlib.pyplot as plt\n",
    "%matplotlib inline"
   ]
  },
  {
   "cell_type": "code",
   "execution_count": 10,
   "id": "0101956e-eadf-417e-a7ff-679b2a0fe4b2",
   "metadata": {},
   "outputs": [
    {
     "data": {
      "text/html": [
       "<div>\n",
       "<style scoped>\n",
       "    .dataframe tbody tr th:only-of-type {\n",
       "        vertical-align: middle;\n",
       "    }\n",
       "\n",
       "    .dataframe tbody tr th {\n",
       "        vertical-align: top;\n",
       "    }\n",
       "\n",
       "    .dataframe thead th {\n",
       "        text-align: right;\n",
       "    }\n",
       "</style>\n",
       "<table border=\"1\" class=\"dataframe\">\n",
       "  <thead>\n",
       "    <tr style=\"text-align: right;\">\n",
       "      <th></th>\n",
       "      <th>Event.Id</th>\n",
       "      <th>Investigation.Type</th>\n",
       "      <th>Accident.Number</th>\n",
       "      <th>Event.Date</th>\n",
       "      <th>Location</th>\n",
       "      <th>Country</th>\n",
       "      <th>Latitude</th>\n",
       "      <th>Longitude</th>\n",
       "      <th>Airport.Code</th>\n",
       "      <th>Airport.Name</th>\n",
       "      <th>...</th>\n",
       "      <th>Purpose.of.flight</th>\n",
       "      <th>Air.carrier</th>\n",
       "      <th>Total.Fatal.Injuries</th>\n",
       "      <th>Total.Serious.Injuries</th>\n",
       "      <th>Total.Minor.Injuries</th>\n",
       "      <th>Total.Uninjured</th>\n",
       "      <th>Weather.Condition</th>\n",
       "      <th>Broad.phase.of.flight</th>\n",
       "      <th>Report.Status</th>\n",
       "      <th>Publication.Date</th>\n",
       "    </tr>\n",
       "  </thead>\n",
       "  <tbody>\n",
       "    <tr>\n",
       "      <th>0</th>\n",
       "      <td>20001218X45444</td>\n",
       "      <td>Accident</td>\n",
       "      <td>SEA87LA080</td>\n",
       "      <td>1948-10-24</td>\n",
       "      <td>MOOSE CREEK, ID</td>\n",
       "      <td>United States</td>\n",
       "      <td>NaN</td>\n",
       "      <td>NaN</td>\n",
       "      <td>NaN</td>\n",
       "      <td>NaN</td>\n",
       "      <td>...</td>\n",
       "      <td>Personal</td>\n",
       "      <td>NaN</td>\n",
       "      <td>2.0</td>\n",
       "      <td>0.0</td>\n",
       "      <td>0.0</td>\n",
       "      <td>0.0</td>\n",
       "      <td>UNK</td>\n",
       "      <td>Cruise</td>\n",
       "      <td>Probable Cause</td>\n",
       "      <td>NaN</td>\n",
       "    </tr>\n",
       "    <tr>\n",
       "      <th>1</th>\n",
       "      <td>20001218X45447</td>\n",
       "      <td>Accident</td>\n",
       "      <td>LAX94LA336</td>\n",
       "      <td>1962-07-19</td>\n",
       "      <td>BRIDGEPORT, CA</td>\n",
       "      <td>United States</td>\n",
       "      <td>NaN</td>\n",
       "      <td>NaN</td>\n",
       "      <td>NaN</td>\n",
       "      <td>NaN</td>\n",
       "      <td>...</td>\n",
       "      <td>Personal</td>\n",
       "      <td>NaN</td>\n",
       "      <td>4.0</td>\n",
       "      <td>0.0</td>\n",
       "      <td>0.0</td>\n",
       "      <td>0.0</td>\n",
       "      <td>UNK</td>\n",
       "      <td>Unknown</td>\n",
       "      <td>Probable Cause</td>\n",
       "      <td>19-09-1996</td>\n",
       "    </tr>\n",
       "    <tr>\n",
       "      <th>2</th>\n",
       "      <td>20061025X01555</td>\n",
       "      <td>Accident</td>\n",
       "      <td>NYC07LA005</td>\n",
       "      <td>1974-08-30</td>\n",
       "      <td>Saltville, VA</td>\n",
       "      <td>United States</td>\n",
       "      <td>36.922223</td>\n",
       "      <td>-81.878056</td>\n",
       "      <td>NaN</td>\n",
       "      <td>NaN</td>\n",
       "      <td>...</td>\n",
       "      <td>Personal</td>\n",
       "      <td>NaN</td>\n",
       "      <td>3.0</td>\n",
       "      <td>NaN</td>\n",
       "      <td>NaN</td>\n",
       "      <td>NaN</td>\n",
       "      <td>IMC</td>\n",
       "      <td>Cruise</td>\n",
       "      <td>Probable Cause</td>\n",
       "      <td>26-02-2007</td>\n",
       "    </tr>\n",
       "    <tr>\n",
       "      <th>3</th>\n",
       "      <td>20001218X45448</td>\n",
       "      <td>Accident</td>\n",
       "      <td>LAX96LA321</td>\n",
       "      <td>1977-06-19</td>\n",
       "      <td>EUREKA, CA</td>\n",
       "      <td>United States</td>\n",
       "      <td>NaN</td>\n",
       "      <td>NaN</td>\n",
       "      <td>NaN</td>\n",
       "      <td>NaN</td>\n",
       "      <td>...</td>\n",
       "      <td>Personal</td>\n",
       "      <td>NaN</td>\n",
       "      <td>2.0</td>\n",
       "      <td>0.0</td>\n",
       "      <td>0.0</td>\n",
       "      <td>0.0</td>\n",
       "      <td>IMC</td>\n",
       "      <td>Cruise</td>\n",
       "      <td>Probable Cause</td>\n",
       "      <td>12-09-2000</td>\n",
       "    </tr>\n",
       "    <tr>\n",
       "      <th>4</th>\n",
       "      <td>20041105X01764</td>\n",
       "      <td>Accident</td>\n",
       "      <td>CHI79FA064</td>\n",
       "      <td>1979-08-02</td>\n",
       "      <td>Canton, OH</td>\n",
       "      <td>United States</td>\n",
       "      <td>NaN</td>\n",
       "      <td>NaN</td>\n",
       "      <td>NaN</td>\n",
       "      <td>NaN</td>\n",
       "      <td>...</td>\n",
       "      <td>Personal</td>\n",
       "      <td>NaN</td>\n",
       "      <td>1.0</td>\n",
       "      <td>2.0</td>\n",
       "      <td>NaN</td>\n",
       "      <td>0.0</td>\n",
       "      <td>VMC</td>\n",
       "      <td>Approach</td>\n",
       "      <td>Probable Cause</td>\n",
       "      <td>16-04-1980</td>\n",
       "    </tr>\n",
       "  </tbody>\n",
       "</table>\n",
       "<p>5 rows × 31 columns</p>\n",
       "</div>"
      ],
      "text/plain": [
       "         Event.Id Investigation.Type Accident.Number  Event.Date  \\\n",
       "0  20001218X45444           Accident      SEA87LA080  1948-10-24   \n",
       "1  20001218X45447           Accident      LAX94LA336  1962-07-19   \n",
       "2  20061025X01555           Accident      NYC07LA005  1974-08-30   \n",
       "3  20001218X45448           Accident      LAX96LA321  1977-06-19   \n",
       "4  20041105X01764           Accident      CHI79FA064  1979-08-02   \n",
       "\n",
       "          Location        Country   Latitude   Longitude Airport.Code  \\\n",
       "0  MOOSE CREEK, ID  United States        NaN         NaN          NaN   \n",
       "1   BRIDGEPORT, CA  United States        NaN         NaN          NaN   \n",
       "2    Saltville, VA  United States  36.922223  -81.878056          NaN   \n",
       "3       EUREKA, CA  United States        NaN         NaN          NaN   \n",
       "4       Canton, OH  United States        NaN         NaN          NaN   \n",
       "\n",
       "  Airport.Name  ... Purpose.of.flight Air.carrier Total.Fatal.Injuries  \\\n",
       "0          NaN  ...          Personal         NaN                  2.0   \n",
       "1          NaN  ...          Personal         NaN                  4.0   \n",
       "2          NaN  ...          Personal         NaN                  3.0   \n",
       "3          NaN  ...          Personal         NaN                  2.0   \n",
       "4          NaN  ...          Personal         NaN                  1.0   \n",
       "\n",
       "  Total.Serious.Injuries Total.Minor.Injuries Total.Uninjured  \\\n",
       "0                    0.0                  0.0             0.0   \n",
       "1                    0.0                  0.0             0.0   \n",
       "2                    NaN                  NaN             NaN   \n",
       "3                    0.0                  0.0             0.0   \n",
       "4                    2.0                  NaN             0.0   \n",
       "\n",
       "  Weather.Condition  Broad.phase.of.flight   Report.Status Publication.Date  \n",
       "0               UNK                 Cruise  Probable Cause              NaN  \n",
       "1               UNK                Unknown  Probable Cause       19-09-1996  \n",
       "2               IMC                 Cruise  Probable Cause       26-02-2007  \n",
       "3               IMC                 Cruise  Probable Cause       12-09-2000  \n",
       "4               VMC               Approach  Probable Cause       16-04-1980  \n",
       "\n",
       "[5 rows x 31 columns]"
      ]
     },
     "execution_count": 10,
     "metadata": {},
     "output_type": "execute_result"
    }
   ],
   "source": [
    "# Read the data into a pands dataset ans assign the variable name df to it \n",
    "df= pd.read_csv('AviationData.csv', encoding = 'latin1', low_memory = False)\n",
    "# Read the first five rows of the dataset\n",
    "df.head()"
   ]
  },
  {
   "cell_type": "markdown",
   "id": "af649493-158a-4d52-bcc6-2bad0e1f6dd7",
   "metadata": {},
   "source": [
    "## 3. Data Cleaning\n",
    "\n",
    "We start by identifying the characteristics of our dataset"
   ]
  },
  {
   "cell_type": "code",
   "execution_count": 12,
   "id": "3e09a4b0-efd1-4809-940d-c8716f3c69e1",
   "metadata": {},
   "outputs": [
    {
     "name": "stdout",
     "output_type": "stream",
     "text": [
      "<class 'pandas.core.frame.DataFrame'>\n",
      "RangeIndex: 88889 entries, 0 to 88888\n",
      "Data columns (total 31 columns):\n",
      " #   Column                  Non-Null Count  Dtype  \n",
      "---  ------                  --------------  -----  \n",
      " 0   Event.Id                88889 non-null  object \n",
      " 1   Investigation.Type      88889 non-null  object \n",
      " 2   Accident.Number         88889 non-null  object \n",
      " 3   Event.Date              88889 non-null  object \n",
      " 4   Location                88837 non-null  object \n",
      " 5   Country                 88663 non-null  object \n",
      " 6   Latitude                34382 non-null  object \n",
      " 7   Longitude               34373 non-null  object \n",
      " 8   Airport.Code            50132 non-null  object \n",
      " 9   Airport.Name            52704 non-null  object \n",
      " 10  Injury.Severity         87889 non-null  object \n",
      " 11  Aircraft.damage         85695 non-null  object \n",
      " 12  Aircraft.Category       32287 non-null  object \n",
      " 13  Registration.Number     87507 non-null  object \n",
      " 14  Make                    88826 non-null  object \n",
      " 15  Model                   88797 non-null  object \n",
      " 16  Amateur.Built           88787 non-null  object \n",
      " 17  Number.of.Engines       82805 non-null  float64\n",
      " 18  Engine.Type             81793 non-null  object \n",
      " 19  FAR.Description         32023 non-null  object \n",
      " 20  Schedule                12582 non-null  object \n",
      " 21  Purpose.of.flight       82697 non-null  object \n",
      " 22  Air.carrier             16648 non-null  object \n",
      " 23  Total.Fatal.Injuries    77488 non-null  float64\n",
      " 24  Total.Serious.Injuries  76379 non-null  float64\n",
      " 25  Total.Minor.Injuries    76956 non-null  float64\n",
      " 26  Total.Uninjured         82977 non-null  float64\n",
      " 27  Weather.Condition       84397 non-null  object \n",
      " 28  Broad.phase.of.flight   61724 non-null  object \n",
      " 29  Report.Status           82505 non-null  object \n",
      " 30  Publication.Date        75118 non-null  object \n",
      "dtypes: float64(5), object(26)\n",
      "memory usage: 21.0+ MB\n"
     ]
    }
   ],
   "source": [
    "#Check for datatypes and column names\n",
    "df.info()"
   ]
  },
  {
   "cell_type": "code",
   "execution_count": 15,
   "id": "3cabc8df-b519-45cc-8e4e-8d679cf1d74d",
   "metadata": {},
   "outputs": [
    {
     "data": {
      "text/plain": [
       "Event.Id                      0\n",
       "Investigation.Type            0\n",
       "Accident.Number               0\n",
       "Event.Date                    0\n",
       "Location                     52\n",
       "Country                     226\n",
       "Latitude                  54507\n",
       "Longitude                 54516\n",
       "Airport.Code              38757\n",
       "Airport.Name              36185\n",
       "Injury.Severity            1000\n",
       "Aircraft.damage            3194\n",
       "Aircraft.Category         56602\n",
       "Registration.Number        1382\n",
       "Make                         63\n",
       "Model                        92\n",
       "Amateur.Built               102\n",
       "Number.of.Engines          6084\n",
       "Engine.Type                7096\n",
       "FAR.Description           56866\n",
       "Schedule                  76307\n",
       "Purpose.of.flight          6192\n",
       "Air.carrier               72241\n",
       "Total.Fatal.Injuries      11401\n",
       "Total.Serious.Injuries    12510\n",
       "Total.Minor.Injuries      11933\n",
       "Total.Uninjured            5912\n",
       "Weather.Condition          4492\n",
       "Broad.phase.of.flight     27165\n",
       "Report.Status              6384\n",
       "Publication.Date          13771\n",
       "dtype: int64"
      ]
     },
     "execution_count": 15,
     "metadata": {},
     "output_type": "execute_result"
    }
   ],
   "source": [
    "#Checks the null values in the data\n",
    "df.isnull().sum()"
   ]
  },
  {
   "cell_type": "markdown",
   "id": "37dc2788-804f-47b9-a994-5d02e8f8e40d",
   "metadata": {},
   "source": [
    "Our dataset has many missing values. We need a solution about that \n",
    "\n",
    "We first calculate what percentage of our data is missing in each column:"
   ]
  },
  {
   "cell_type": "code",
   "execution_count": 18,
   "id": "b00fdc0b-79a3-4234-997d-acf0e7bce45e",
   "metadata": {},
   "outputs": [
    {
     "data": {
      "text/plain": [
       "Event.Id                   0.00\n",
       "Investigation.Type         0.00\n",
       "Accident.Number            0.00\n",
       "Event.Date                 0.00\n",
       "Location                   0.06\n",
       "Country                    0.25\n",
       "Latitude                  61.32\n",
       "Longitude                 61.33\n",
       "Airport.Code              43.60\n",
       "Airport.Name              40.71\n",
       "Injury.Severity            1.12\n",
       "Aircraft.damage            3.59\n",
       "Aircraft.Category         63.68\n",
       "Registration.Number        1.55\n",
       "Make                       0.07\n",
       "Model                      0.10\n",
       "Amateur.Built              0.11\n",
       "Number.of.Engines          6.84\n",
       "Engine.Type                7.98\n",
       "FAR.Description           63.97\n",
       "Schedule                  85.85\n",
       "Purpose.of.flight          6.97\n",
       "Air.carrier               81.27\n",
       "Total.Fatal.Injuries      12.83\n",
       "Total.Serious.Injuries    14.07\n",
       "Total.Minor.Injuries      13.42\n",
       "Total.Uninjured            6.65\n",
       "Weather.Condition          5.05\n",
       "Broad.phase.of.flight     30.56\n",
       "Report.Status              7.18\n",
       "Publication.Date          15.49\n",
       "dtype: float64"
      ]
     },
     "execution_count": 18,
     "metadata": {},
     "output_type": "execute_result"
    }
   ],
   "source": [
    "round((df.isnull().sum()/ len(df))*100,2)\n",
    "#round off to 2 decimal places"
   ]
  },
  {
   "cell_type": "markdown",
   "id": "47cafe7b-0f7d-4404-bf20-b12f8980dabb",
   "metadata": {},
   "source": [
    "Different columns have different percentages of their data missing, with `Schedule` column having the highest at 85.85%. \n",
    "\n",
    "we are going to eliminate some of these columns out of the dataset; Those missing over 70% of the data"
   ]
  },
  {
   "cell_type": "markdown",
   "id": "ae9674b7-0e44-4844-af29-baea7da58547",
   "metadata": {},
   "source": [
    "Our dataset contains many missing values, so we can filter mainly the columns we need for this analysis.\n",
    "\n"
   ]
  },
  {
   "cell_type": "code",
   "execution_count": 22,
   "id": "9020a0fb-61b2-4cec-82c4-95548d68ec5b",
   "metadata": {},
   "outputs": [],
   "source": [
    "# Identify relevant columns\n",
    "relevant_columns = ['Event.Date', 'Country', 'Location','Injury.Severity','Model','Longitude', 'Latitude', 'Aircraft.damage', 'Aircraft.Category', 'Make', 'Number.of.Engines', 'Engine.Type', 'Purpose.of.flight', 'Total.Fatal.Injuries', 'Total.Serious.Injuries', 'Total.Minor.Injuries', 'Total.Uninjured', 'Weather.Condition']"
   ]
  },
  {
   "cell_type": "code",
   "execution_count": 24,
   "id": "d4a52606-9db5-4e42-bda2-f510187b6890",
   "metadata": {},
   "outputs": [
    {
     "data": {
      "text/html": [
       "<div>\n",
       "<style scoped>\n",
       "    .dataframe tbody tr th:only-of-type {\n",
       "        vertical-align: middle;\n",
       "    }\n",
       "\n",
       "    .dataframe tbody tr th {\n",
       "        vertical-align: top;\n",
       "    }\n",
       "\n",
       "    .dataframe thead th {\n",
       "        text-align: right;\n",
       "    }\n",
       "</style>\n",
       "<table border=\"1\" class=\"dataframe\">\n",
       "  <thead>\n",
       "    <tr style=\"text-align: right;\">\n",
       "      <th></th>\n",
       "      <th>Event.Date</th>\n",
       "      <th>Country</th>\n",
       "      <th>Location</th>\n",
       "      <th>Injury.Severity</th>\n",
       "      <th>Model</th>\n",
       "      <th>Longitude</th>\n",
       "      <th>Latitude</th>\n",
       "      <th>Aircraft.damage</th>\n",
       "      <th>Aircraft.Category</th>\n",
       "      <th>Make</th>\n",
       "      <th>Number.of.Engines</th>\n",
       "      <th>Engine.Type</th>\n",
       "      <th>Purpose.of.flight</th>\n",
       "      <th>Total.Fatal.Injuries</th>\n",
       "      <th>Total.Serious.Injuries</th>\n",
       "      <th>Total.Minor.Injuries</th>\n",
       "      <th>Total.Uninjured</th>\n",
       "      <th>Weather.Condition</th>\n",
       "    </tr>\n",
       "  </thead>\n",
       "  <tbody>\n",
       "    <tr>\n",
       "      <th>0</th>\n",
       "      <td>1948-10-24</td>\n",
       "      <td>United States</td>\n",
       "      <td>MOOSE CREEK, ID</td>\n",
       "      <td>Fatal(2)</td>\n",
       "      <td>108-3</td>\n",
       "      <td>NaN</td>\n",
       "      <td>NaN</td>\n",
       "      <td>Destroyed</td>\n",
       "      <td>NaN</td>\n",
       "      <td>Stinson</td>\n",
       "      <td>1.0</td>\n",
       "      <td>Reciprocating</td>\n",
       "      <td>Personal</td>\n",
       "      <td>2.0</td>\n",
       "      <td>0.0</td>\n",
       "      <td>0.0</td>\n",
       "      <td>0.0</td>\n",
       "      <td>UNK</td>\n",
       "    </tr>\n",
       "    <tr>\n",
       "      <th>1</th>\n",
       "      <td>1962-07-19</td>\n",
       "      <td>United States</td>\n",
       "      <td>BRIDGEPORT, CA</td>\n",
       "      <td>Fatal(4)</td>\n",
       "      <td>PA24-180</td>\n",
       "      <td>NaN</td>\n",
       "      <td>NaN</td>\n",
       "      <td>Destroyed</td>\n",
       "      <td>NaN</td>\n",
       "      <td>Piper</td>\n",
       "      <td>1.0</td>\n",
       "      <td>Reciprocating</td>\n",
       "      <td>Personal</td>\n",
       "      <td>4.0</td>\n",
       "      <td>0.0</td>\n",
       "      <td>0.0</td>\n",
       "      <td>0.0</td>\n",
       "      <td>UNK</td>\n",
       "    </tr>\n",
       "    <tr>\n",
       "      <th>2</th>\n",
       "      <td>1974-08-30</td>\n",
       "      <td>United States</td>\n",
       "      <td>Saltville, VA</td>\n",
       "      <td>Fatal(3)</td>\n",
       "      <td>172M</td>\n",
       "      <td>-81.878056</td>\n",
       "      <td>36.922223</td>\n",
       "      <td>Destroyed</td>\n",
       "      <td>NaN</td>\n",
       "      <td>Cessna</td>\n",
       "      <td>1.0</td>\n",
       "      <td>Reciprocating</td>\n",
       "      <td>Personal</td>\n",
       "      <td>3.0</td>\n",
       "      <td>NaN</td>\n",
       "      <td>NaN</td>\n",
       "      <td>NaN</td>\n",
       "      <td>IMC</td>\n",
       "    </tr>\n",
       "    <tr>\n",
       "      <th>3</th>\n",
       "      <td>1977-06-19</td>\n",
       "      <td>United States</td>\n",
       "      <td>EUREKA, CA</td>\n",
       "      <td>Fatal(2)</td>\n",
       "      <td>112</td>\n",
       "      <td>NaN</td>\n",
       "      <td>NaN</td>\n",
       "      <td>Destroyed</td>\n",
       "      <td>NaN</td>\n",
       "      <td>Rockwell</td>\n",
       "      <td>1.0</td>\n",
       "      <td>Reciprocating</td>\n",
       "      <td>Personal</td>\n",
       "      <td>2.0</td>\n",
       "      <td>0.0</td>\n",
       "      <td>0.0</td>\n",
       "      <td>0.0</td>\n",
       "      <td>IMC</td>\n",
       "    </tr>\n",
       "    <tr>\n",
       "      <th>4</th>\n",
       "      <td>1979-08-02</td>\n",
       "      <td>United States</td>\n",
       "      <td>Canton, OH</td>\n",
       "      <td>Fatal(1)</td>\n",
       "      <td>501</td>\n",
       "      <td>NaN</td>\n",
       "      <td>NaN</td>\n",
       "      <td>Destroyed</td>\n",
       "      <td>NaN</td>\n",
       "      <td>Cessna</td>\n",
       "      <td>NaN</td>\n",
       "      <td>NaN</td>\n",
       "      <td>Personal</td>\n",
       "      <td>1.0</td>\n",
       "      <td>2.0</td>\n",
       "      <td>NaN</td>\n",
       "      <td>0.0</td>\n",
       "      <td>VMC</td>\n",
       "    </tr>\n",
       "  </tbody>\n",
       "</table>\n",
       "</div>"
      ],
      "text/plain": [
       "   Event.Date        Country         Location Injury.Severity     Model  \\\n",
       "0  1948-10-24  United States  MOOSE CREEK, ID        Fatal(2)     108-3   \n",
       "1  1962-07-19  United States   BRIDGEPORT, CA        Fatal(4)  PA24-180   \n",
       "2  1974-08-30  United States    Saltville, VA        Fatal(3)      172M   \n",
       "3  1977-06-19  United States       EUREKA, CA        Fatal(2)       112   \n",
       "4  1979-08-02  United States       Canton, OH        Fatal(1)       501   \n",
       "\n",
       "    Longitude   Latitude Aircraft.damage Aircraft.Category      Make  \\\n",
       "0         NaN        NaN       Destroyed               NaN   Stinson   \n",
       "1         NaN        NaN       Destroyed               NaN     Piper   \n",
       "2  -81.878056  36.922223       Destroyed               NaN    Cessna   \n",
       "3         NaN        NaN       Destroyed               NaN  Rockwell   \n",
       "4         NaN        NaN       Destroyed               NaN    Cessna   \n",
       "\n",
       "   Number.of.Engines    Engine.Type Purpose.of.flight  Total.Fatal.Injuries  \\\n",
       "0                1.0  Reciprocating          Personal                   2.0   \n",
       "1                1.0  Reciprocating          Personal                   4.0   \n",
       "2                1.0  Reciprocating          Personal                   3.0   \n",
       "3                1.0  Reciprocating          Personal                   2.0   \n",
       "4                NaN            NaN          Personal                   1.0   \n",
       "\n",
       "   Total.Serious.Injuries  Total.Minor.Injuries  Total.Uninjured  \\\n",
       "0                     0.0                   0.0              0.0   \n",
       "1                     0.0                   0.0              0.0   \n",
       "2                     NaN                   NaN              NaN   \n",
       "3                     0.0                   0.0              0.0   \n",
       "4                     2.0                   NaN              0.0   \n",
       "\n",
       "  Weather.Condition  \n",
       "0               UNK  \n",
       "1               UNK  \n",
       "2               IMC  \n",
       "3               IMC  \n",
       "4               VMC  "
      ]
     },
     "execution_count": 24,
     "metadata": {},
     "output_type": "execute_result"
    }
   ],
   "source": [
    "#Create a dataframe df_relevant that we will use for the rest of analysis\n",
    "df_relevant = df[relevant_columns]\n",
    "df_relevant.head()"
   ]
  },
  {
   "cell_type": "code",
   "execution_count": 26,
   "id": "0b454ac2-39b2-4049-bc1a-e98550ee38cf",
   "metadata": {},
   "outputs": [
    {
     "data": {
      "text/plain": [
       "Aircraft.Category         56602\n",
       "Longitude                 54516\n",
       "Latitude                  54507\n",
       "Total.Serious.Injuries    12510\n",
       "Total.Minor.Injuries      11933\n",
       "Total.Fatal.Injuries      11401\n",
       "Engine.Type                7096\n",
       "Purpose.of.flight          6192\n",
       "Number.of.Engines          6084\n",
       "Total.Uninjured            5912\n",
       "Weather.Condition          4492\n",
       "Aircraft.damage            3194\n",
       "Injury.Severity            1000\n",
       "Country                     226\n",
       "Model                        92\n",
       "Make                         63\n",
       "Location                     52\n",
       "Event.Date                    0\n",
       "dtype: int64"
      ]
     },
     "execution_count": 26,
     "metadata": {},
     "output_type": "execute_result"
    }
   ],
   "source": [
    "#Check for missing values in the new defined dataset\n",
    "df_relevant.isna().sum().sort_values(ascending=False)"
   ]
  },
  {
   "cell_type": "code",
   "execution_count": 28,
   "id": "370cff87-40ab-4838-84d4-6d881c900e5a",
   "metadata": {},
   "outputs": [
    {
     "data": {
      "text/plain": [
       "Make\n",
       "Cessna             22227\n",
       "Piper              12029\n",
       "CESSNA              4922\n",
       "Beech               4330\n",
       "PIPER               2841\n",
       "                   ...  \n",
       "Leonard Walters        1\n",
       "Maule Air Inc.         1\n",
       "Motley Vans            1\n",
       "Perlick                1\n",
       "ROYSE RALPH L          1\n",
       "Name: count, Length: 8237, dtype: int64"
      ]
     },
     "execution_count": 28,
     "metadata": {},
     "output_type": "execute_result"
    }
   ],
   "source": [
    "#Checks for the values in the make column\n",
    "df_relevant[\"Make\"].value_counts()"
   ]
  },
  {
   "cell_type": "markdown",
   "id": "d6b78800-c2a8-4cc9-bfbe-db14d9b3d4c7",
   "metadata": {},
   "source": [
    "As from above, `Cessna` and `CESSNA` may be reffering to the same make but due to the case sensitivity of of python, they are portrayed as different. This can be corrected as below:"
   ]
  },
  {
   "cell_type": "code",
   "execution_count": 31,
   "id": "05968e23-aa75-4f10-9185-b21a205d0921",
   "metadata": {},
   "outputs": [
    {
     "name": "stderr",
     "output_type": "stream",
     "text": [
      "C:\\Users\\USER\\AppData\\Local\\Temp\\ipykernel_23116\\431169931.py:1: SettingWithCopyWarning: \n",
      "A value is trying to be set on a copy of a slice from a DataFrame.\n",
      "Try using .loc[row_indexer,col_indexer] = value instead\n",
      "\n",
      "See the caveats in the documentation: https://pandas.pydata.org/pandas-docs/stable/user_guide/indexing.html#returning-a-view-versus-a-copy\n",
      "  df_relevant['Make'] = df_relevant['Make'].str.upper().str.strip()\n"
     ]
    }
   ],
   "source": [
    "df_relevant['Make'] = df_relevant['Make'].str.upper().str.strip()"
   ]
  },
  {
   "cell_type": "code",
   "execution_count": 33,
   "id": "1a40bd36-f977-4c25-8def-4d00ef594da7",
   "metadata": {},
   "outputs": [
    {
     "data": {
      "text/plain": [
       "Make\n",
       "CESSNA           27149\n",
       "PIPER            14870\n",
       "BEECH             5372\n",
       "BOEING            2745\n",
       "BELL              2722\n",
       "                 ...  \n",
       "COHEN                1\n",
       "KITCHENS             1\n",
       "LUTES                1\n",
       "IZATT                1\n",
       "ROYSE RALPH L        1\n",
       "Name: count, Length: 7587, dtype: int64"
      ]
     },
     "execution_count": 33,
     "metadata": {},
     "output_type": "execute_result"
    }
   ],
   "source": [
    "df_relevant['Make'] .value_counts()"
   ]
  },
  {
   "cell_type": "markdown",
   "id": "44eaf136-acf3-450c-8984-026145cad23c",
   "metadata": {},
   "source": [
    "#### We can use the `Make` column to fill missing values for `Aicraft.Category` column. Here is how:"
   ]
  },
  {
   "cell_type": "code",
   "execution_count": 36,
   "id": "00359916-ab40-48aa-b2df-2a32eb72e05d",
   "metadata": {},
   "outputs": [],
   "source": [
    "filtered_df = df[df['Aircraft.Category'].notna()]\n",
    "#To ensure that the condition applies to those values that are not null\n",
    "make_category_map = filtered_df.groupby('Make')['Aircraft.Category'].apply(\n",
    "    lambda x: x.mode().iloc[0]\n",
    ")"
   ]
  },
  {
   "cell_type": "code",
   "execution_count": null,
   "id": "8a68917f-2edd-439c-9fd2-363c8d8eb314",
   "metadata": {},
   "outputs": [],
   "source": []
  },
  {
   "cell_type": "code",
   "execution_count": 38,
   "id": "fb7def9f-a042-498b-97de-29f9b5e2ee0b",
   "metadata": {},
   "outputs": [
    {
     "name": "stderr",
     "output_type": "stream",
     "text": [
      "C:\\Users\\USER\\AppData\\Local\\Temp\\ipykernel_23116\\267209251.py:1: SettingWithCopyWarning: \n",
      "A value is trying to be set on a copy of a slice from a DataFrame.\n",
      "Try using .loc[row_indexer,col_indexer] = value instead\n",
      "\n",
      "See the caveats in the documentation: https://pandas.pydata.org/pandas-docs/stable/user_guide/indexing.html#returning-a-view-versus-a-copy\n",
      "  df_relevant['Aircraft.Category'] = df_relevant['Aircraft.Category'].fillna(df_relevant['Make'].map(make_category_map))\n"
     ]
    }
   ],
   "source": [
    "df_relevant['Aircraft.Category'] = df_relevant['Aircraft.Category'].fillna(df_relevant['Make'].map(make_category_map))"
   ]
  },
  {
   "cell_type": "code",
   "execution_count": 39,
   "id": "9c511967-be01-4971-8f39-9090b3c3302e",
   "metadata": {},
   "outputs": [
    {
     "data": {
      "text/plain": [
       "Longitude                 54516\n",
       "Latitude                  54507\n",
       "Total.Serious.Injuries    12510\n",
       "Total.Minor.Injuries      11933\n",
       "Total.Fatal.Injuries      11401\n",
       "Engine.Type                7096\n",
       "Purpose.of.flight          6192\n",
       "Number.of.Engines          6084\n",
       "Total.Uninjured            5912\n",
       "Aircraft.Category          5746\n",
       "Weather.Condition          4492\n",
       "Aircraft.damage            3194\n",
       "Injury.Severity            1000\n",
       "Country                     226\n",
       "Model                        92\n",
       "Make                         63\n",
       "Location                     52\n",
       "Event.Date                    0\n",
       "dtype: int64"
      ]
     },
     "execution_count": 39,
     "metadata": {},
     "output_type": "execute_result"
    }
   ],
   "source": [
    "df_relevant.isna().sum().sort_values(ascending=False)"
   ]
  },
  {
   "cell_type": "code",
   "execution_count": 40,
   "id": "2ffe91e8-e34b-42ee-af27-46668b899330",
   "metadata": {},
   "outputs": [
    {
     "data": {
      "text/plain": [
       "11.56"
      ]
     },
     "execution_count": 40,
     "metadata": {},
     "output_type": "execute_result"
    }
   ],
   "source": [
    " round(df_relevant.isnull().sum().sum() / df_relevant.size * 100,2)"
   ]
  },
  {
   "cell_type": "markdown",
   "id": "d13cfb7a-64af-4edf-b52b-083d4e6ce6e7",
   "metadata": {},
   "source": [
    "AS for now, only 11% of our data is missing. we can get rid of this data since it is not that significant\n"
   ]
  },
  {
   "cell_type": "code",
   "execution_count": 42,
   "id": "be8cc578-60bc-4c4f-8d17-bdef1b95181a",
   "metadata": {},
   "outputs": [],
   "source": [
    "df_relevant = df_relevant.dropna().reset_index(drop =True)"
   ]
  },
  {
   "cell_type": "code",
   "execution_count": 48,
   "id": "a85846a3-b80d-4c59-9cc4-d2bbdeed1dee",
   "metadata": {},
   "outputs": [
    {
     "data": {
      "text/plain": [
       "0.0"
      ]
     },
     "execution_count": 48,
     "metadata": {},
     "output_type": "execute_result"
    }
   ],
   "source": [
    "# Checks the % of missing values in the data. should be 0\n",
    "df_relevant.isnull().sum().sum() / df_relevant.size * 100"
   ]
  },
  {
   "cell_type": "markdown",
   "id": "821345b3-633d-441c-b8d0-8d5aed6938fa",
   "metadata": {},
   "source": [
    "Now we have a clean data with the relevants columns We can begin our analysis"
   ]
  },
  {
   "cell_type": "markdown",
   "id": "6011e915-5dd5-40eb-b8ab-cb2bc041455e",
   "metadata": {},
   "source": [
    "## Exploratory Data Analysis"
   ]
  },
  {
   "cell_type": "code",
   "execution_count": 52,
   "id": "0996ca84-13ee-41a3-b659-a1714245e8a5",
   "metadata": {},
   "outputs": [
    {
     "data": {
      "text/plain": [
       "(16882, 18)"
      ]
     },
     "execution_count": 52,
     "metadata": {},
     "output_type": "execute_result"
    }
   ],
   "source": [
    "# Lets identify the shape of oue sample dataset\n",
    "df_relevant.shape"
   ]
  },
  {
   "cell_type": "code",
   "execution_count": 54,
   "id": "d8a4857e-5b57-4267-91bf-adf6a8fce35e",
   "metadata": {},
   "outputs": [
    {
     "data": {
      "text/html": [
       "<div>\n",
       "<style scoped>\n",
       "    .dataframe tbody tr th:only-of-type {\n",
       "        vertical-align: middle;\n",
       "    }\n",
       "\n",
       "    .dataframe tbody tr th {\n",
       "        vertical-align: top;\n",
       "    }\n",
       "\n",
       "    .dataframe thead th {\n",
       "        text-align: right;\n",
       "    }\n",
       "</style>\n",
       "<table border=\"1\" class=\"dataframe\">\n",
       "  <thead>\n",
       "    <tr style=\"text-align: right;\">\n",
       "      <th></th>\n",
       "      <th>Event.Date</th>\n",
       "      <th>Country</th>\n",
       "      <th>Location</th>\n",
       "      <th>Injury.Severity</th>\n",
       "      <th>Model</th>\n",
       "      <th>Longitude</th>\n",
       "      <th>Latitude</th>\n",
       "      <th>Aircraft.damage</th>\n",
       "      <th>Aircraft.Category</th>\n",
       "      <th>Make</th>\n",
       "      <th>Number.of.Engines</th>\n",
       "      <th>Engine.Type</th>\n",
       "      <th>Purpose.of.flight</th>\n",
       "      <th>Total.Fatal.Injuries</th>\n",
       "      <th>Total.Serious.Injuries</th>\n",
       "      <th>Total.Minor.Injuries</th>\n",
       "      <th>Total.Uninjured</th>\n",
       "      <th>Weather.Condition</th>\n",
       "    </tr>\n",
       "  </thead>\n",
       "  <tbody>\n",
       "    <tr>\n",
       "      <th>0</th>\n",
       "      <td>1998-12-17</td>\n",
       "      <td>United States</td>\n",
       "      <td>LOS ANGELES, CA</td>\n",
       "      <td>Non-Fatal</td>\n",
       "      <td>55B</td>\n",
       "      <td>-118.413611</td>\n",
       "      <td>33.948611</td>\n",
       "      <td>Substantial</td>\n",
       "      <td>Airplane</td>\n",
       "      <td>LEARJET</td>\n",
       "      <td>2.0</td>\n",
       "      <td>Turbo Fan</td>\n",
       "      <td>Unknown</td>\n",
       "      <td>0.0</td>\n",
       "      <td>0.0</td>\n",
       "      <td>0.0</td>\n",
       "      <td>7.0</td>\n",
       "      <td>VMC</td>\n",
       "    </tr>\n",
       "    <tr>\n",
       "      <th>1</th>\n",
       "      <td>1999-05-06</td>\n",
       "      <td>United States</td>\n",
       "      <td>PLYMOUTH, MA</td>\n",
       "      <td>Fatal(1)</td>\n",
       "      <td>PA28RT-201T</td>\n",
       "      <td>-70.728611</td>\n",
       "      <td>41.908889</td>\n",
       "      <td>Destroyed</td>\n",
       "      <td>Airplane</td>\n",
       "      <td>PIPER</td>\n",
       "      <td>1.0</td>\n",
       "      <td>Reciprocating</td>\n",
       "      <td>Personal</td>\n",
       "      <td>1.0</td>\n",
       "      <td>0.0</td>\n",
       "      <td>0.0</td>\n",
       "      <td>0.0</td>\n",
       "      <td>IMC</td>\n",
       "    </tr>\n",
       "    <tr>\n",
       "      <th>2</th>\n",
       "      <td>1999-07-13</td>\n",
       "      <td>United States</td>\n",
       "      <td>MINDEN, NV</td>\n",
       "      <td>Fatal(2)</td>\n",
       "      <td>NIMBUS 4DM</td>\n",
       "      <td>-119.672778</td>\n",
       "      <td>38.981667</td>\n",
       "      <td>Destroyed</td>\n",
       "      <td>Glider</td>\n",
       "      <td>SCHEMPP-HIRTH</td>\n",
       "      <td>1.0</td>\n",
       "      <td>Reciprocating</td>\n",
       "      <td>Personal</td>\n",
       "      <td>2.0</td>\n",
       "      <td>0.0</td>\n",
       "      <td>0.0</td>\n",
       "      <td>0.0</td>\n",
       "      <td>VMC</td>\n",
       "    </tr>\n",
       "    <tr>\n",
       "      <th>3</th>\n",
       "      <td>1999-10-15</td>\n",
       "      <td>United States</td>\n",
       "      <td>Ventura, CA</td>\n",
       "      <td>Fatal(2)</td>\n",
       "      <td>152</td>\n",
       "      <td>-119.335555</td>\n",
       "      <td>34.294444</td>\n",
       "      <td>Destroyed</td>\n",
       "      <td>Airplane</td>\n",
       "      <td>CESSNA</td>\n",
       "      <td>1.0</td>\n",
       "      <td>Reciprocating</td>\n",
       "      <td>Personal</td>\n",
       "      <td>2.0</td>\n",
       "      <td>0.0</td>\n",
       "      <td>0.0</td>\n",
       "      <td>0.0</td>\n",
       "      <td>VMC</td>\n",
       "    </tr>\n",
       "    <tr>\n",
       "      <th>4</th>\n",
       "      <td>1999-11-27</td>\n",
       "      <td>United States</td>\n",
       "      <td>PHILADELPHIA, MS</td>\n",
       "      <td>Fatal(2)</td>\n",
       "      <td>212</td>\n",
       "      <td>-88.926111</td>\n",
       "      <td>32.784444</td>\n",
       "      <td>Destroyed</td>\n",
       "      <td>Helicopter</td>\n",
       "      <td>BELL</td>\n",
       "      <td>1.0</td>\n",
       "      <td>Turbo Shaft</td>\n",
       "      <td>Positioning</td>\n",
       "      <td>2.0</td>\n",
       "      <td>0.0</td>\n",
       "      <td>0.0</td>\n",
       "      <td>0.0</td>\n",
       "      <td>VMC</td>\n",
       "    </tr>\n",
       "  </tbody>\n",
       "</table>\n",
       "</div>"
      ],
      "text/plain": [
       "   Event.Date        Country          Location Injury.Severity        Model  \\\n",
       "0  1998-12-17  United States   LOS ANGELES, CA       Non-Fatal          55B   \n",
       "1  1999-05-06  United States      PLYMOUTH, MA        Fatal(1)  PA28RT-201T   \n",
       "2  1999-07-13  United States        MINDEN, NV        Fatal(2)   NIMBUS 4DM   \n",
       "3  1999-10-15  United States       Ventura, CA        Fatal(2)          152   \n",
       "4  1999-11-27  United States  PHILADELPHIA, MS        Fatal(2)          212   \n",
       "\n",
       "     Longitude   Latitude Aircraft.damage Aircraft.Category           Make  \\\n",
       "0  -118.413611  33.948611     Substantial          Airplane        LEARJET   \n",
       "1   -70.728611  41.908889       Destroyed          Airplane          PIPER   \n",
       "2  -119.672778  38.981667       Destroyed            Glider  SCHEMPP-HIRTH   \n",
       "3  -119.335555  34.294444       Destroyed          Airplane         CESSNA   \n",
       "4   -88.926111  32.784444       Destroyed        Helicopter           BELL   \n",
       "\n",
       "   Number.of.Engines    Engine.Type Purpose.of.flight  Total.Fatal.Injuries  \\\n",
       "0                2.0      Turbo Fan           Unknown                   0.0   \n",
       "1                1.0  Reciprocating          Personal                   1.0   \n",
       "2                1.0  Reciprocating          Personal                   2.0   \n",
       "3                1.0  Reciprocating          Personal                   2.0   \n",
       "4                1.0    Turbo Shaft       Positioning                   2.0   \n",
       "\n",
       "   Total.Serious.Injuries  Total.Minor.Injuries  Total.Uninjured  \\\n",
       "0                     0.0                   0.0              7.0   \n",
       "1                     0.0                   0.0              0.0   \n",
       "2                     0.0                   0.0              0.0   \n",
       "3                     0.0                   0.0              0.0   \n",
       "4                     0.0                   0.0              0.0   \n",
       "\n",
       "  Weather.Condition  \n",
       "0               VMC  \n",
       "1               IMC  \n",
       "2               VMC  \n",
       "3               VMC  \n",
       "4               VMC  "
      ]
     },
     "execution_count": 54,
     "metadata": {},
     "output_type": "execute_result"
    }
   ],
   "source": [
    "df_relevant.head()"
   ]
  },
  {
   "cell_type": "markdown",
   "id": "21bdcfd1-0c2e-4b00-a3be-6394f1835c3d",
   "metadata": {},
   "source": [
    "### Accident trends over time"
   ]
  },
  {
   "cell_type": "code",
   "execution_count": 57,
   "id": "577fbebb-9434-489a-8ff4-9630f8986e24",
   "metadata": {},
   "outputs": [],
   "source": [
    "# Convert event time to a timeframe and perform analysis\n",
    "df_relevant['Event.Date'] = pd.to_datetime(df_relevant['Event.Date'])"
   ]
  },
  {
   "cell_type": "code",
   "execution_count": 59,
   "id": "1c0ee7cf-fdf2-4d1d-b031-59e09904c8ad",
   "metadata": {},
   "outputs": [
    {
     "data": {
      "image/png": "[encoded data removed]",
      "text/plain": [
       "<Figure size 640x480 with 1 Axes>"
      ]
     },
     "metadata": {},
     "output_type": "display_data"
    }
   ],
   "source": [
    "#visualize\n",
    "events_per_year = df_relevant.groupby(df_relevant['Event.Date'].dt.year // 10 * 10).size()\n",
    "events_per_year.plot(kind='bar')\n",
    "plt.xlabel('Date (By decade)')\n",
    "plt.ylabel('Number of Events')\n",
    "plt.title('Events Over Time')\n",
    "plt.show()"
   ]
  },
  {
   "cell_type": "code",
   "execution_count": 61,
   "id": "4ddd4a22-9e67-4834-a985-9c5f3a91a16a",
   "metadata": {},
   "outputs": [
    {
     "data": {
      "text/plain": [
       "Event.Date\n",
       "1990        6\n",
       "2000     3123\n",
       "2010    12301\n",
       "2020     1452\n",
       "dtype: int64"
      ]
     },
     "execution_count": 61,
     "metadata": {},
     "output_type": "execute_result"
    }
   ],
   "source": [
    "# Grouped by decade\n",
    "events_per_year"
   ]
  },
  {
   "cell_type": "code",
   "execution_count": 63,
   "id": "8adce2bc-9e81-4696-97dd-2d9fe3302a63",
   "metadata": {},
   "outputs": [
    {
     "name": "stdout",
     "output_type": "stream",
     "text": [
      "16882 Are the total number of accidents in this sample dataset\n"
     ]
    }
   ],
   "source": [
    "print(f\"{events_per_year.sum()} Are the total number of accidents in this sample dataset\")"
   ]
  },
  {
   "cell_type": "markdown",
   "id": "a904ce38-67de-469d-a11a-473c91aa1610",
   "metadata": {},
   "source": [
    "#### Let's calculate the percentage increase or dicrease in accidents in the decades"
   ]
  },
  {
   "cell_type": "code",
   "execution_count": 66,
   "id": "d3e1c310-5046-4569-bf4c-19bf2ddc5277",
   "metadata": {},
   "outputs": [
    {
     "data": {
      "text/plain": [
       "18.46345219760692"
      ]
     },
     "execution_count": 66,
     "metadata": {},
     "output_type": "execute_result"
    }
   ],
   "source": [
    "\n",
    "avg_increase_1 = abs((6-3123)/16882)*100\n",
    "avg_increase_1"
   ]
  },
  {
   "cell_type": "code",
   "execution_count": 68,
   "id": "b1acc023-6785-49bb-97d5-6921956dc927",
   "metadata": {},
   "outputs": [
    {
     "data": {
      "text/plain": [
       "54.36559649330648"
      ]
     },
     "execution_count": 68,
     "metadata": {},
     "output_type": "execute_result"
    }
   ],
   "source": [
    "avg_increase_2 = abs((3123-12301)/16882)*100\n",
    "avg_increase_2"
   ]
  },
  {
   "cell_type": "code",
   "execution_count": 70,
   "id": "d89537bf-6ac2-4394-af7a-31fc9eea9527",
   "metadata": {},
   "outputs": [
    {
     "data": {
      "text/plain": [
       "64.26371283023339"
      ]
     },
     "execution_count": 70,
     "metadata": {},
     "output_type": "execute_result"
    }
   ],
   "source": [
    "avg_decrease_3= ((12301-1452)/16882)*100\n",
    "avg_decrease_3"
   ]
  },
  {
   "cell_type": "code",
   "execution_count": null,
   "id": "3666cbc0-40ba-468f-8db5-065f8b73da46",
   "metadata": {},
   "outputs": [],
   "source": []
  },
  {
   "cell_type": "markdown",
   "id": "a9b69aed-3c4a-48e9-a3a7-e73f04f2c440",
   "metadata": {},
   "source": [
    "#### The above plot visualizes the occurances of accidents over the years grouped by decade.\n",
    "- In the first decade, there were no airplane crashes. This is because air was not used as a means of transport\n",
    "- The second decade shows that there were fewer accidents (as compared to the following decade). Air transport had been introduced but was not very popular.\n",
    "- The third decade is where the most accidents occured. Air transport had been highly adapted but safety measures were not implemented.\n",
    "- In the fourth decade, fewer accidents are witnessed. High safety measures have been implemented to conquer the many accidents witnessed in the previous decade  "
   ]
  },
  {
   "cell_type": "markdown",
   "id": "ea611802-e222-4a17-9cf9-3e4d918707ee",
   "metadata": {},
   "source": [
    "### Purpose of flight with accidents\n",
    "#### Identifying the effect of flight purpose to flight. We can use a plot to visualize"
   ]
  },
  {
   "cell_type": "code",
   "execution_count": 75,
   "id": "34096f1e-4d5b-4d1d-a9a8-277fe9882300",
   "metadata": {},
   "outputs": [
    {
     "data": {
      "text/plain": [
       "Purpose.of.flight\n",
       "PUBL                             1\n",
       "PUBS                             2\n",
       "ASHO                             2\n",
       "Air Drop                         6\n",
       "Firefighting                    16\n",
       "Glider Tow                      30\n",
       "Public Aircraft                 34\n",
       "Public Aircraft - State         47\n",
       "Unknown                         50\n",
       "Air Race show                   54\n",
       "Public Aircraft - Local         58\n",
       "Public Aircraft - Federal       65\n",
       "Banner Tow                      69\n",
       "External Load                   77\n",
       "Executive/corporate             83\n",
       "Ferry                           89\n",
       "Skydiving                       96\n",
       "Flight Test                    206\n",
       "Aerial Observation             219\n",
       "Other Work Use                 228\n",
       "Positioning                    358\n",
       "Business                       410\n",
       "Aerial Application             872\n",
       "Instructional                 2406\n",
       "Personal                     11404\n",
       "Name: count, dtype: int64"
      ]
     },
     "execution_count": 75,
     "metadata": {},
     "output_type": "execute_result"
    }
   ],
   "source": [
    "values_c = df_relevant['Purpose.of.flight'].value_counts(ascending = True)\n",
    "values_c"
   ]
  },
  {
   "cell_type": "code",
   "execution_count": 77,
   "id": "637cd3bf-6a0d-4ef3-b23c-b4734b8ecdaa",
   "metadata": {},
   "outputs": [
    {
     "name": "stdout",
     "output_type": "stream",
     "text": [
      "Purpose.of.flight\n",
      "PUBL                          0.01\n",
      "PUBS                          0.01\n",
      "ASHO                          0.01\n",
      "Air Drop                      0.04\n",
      "Firefighting                  0.09\n",
      "Glider Tow                    0.18\n",
      "Public Aircraft               0.20\n",
      "Public Aircraft - State       0.28\n",
      "Unknown                       0.30\n",
      "Air Race show                 0.32\n",
      "Public Aircraft - Local       0.34\n",
      "Public Aircraft - Federal     0.39\n",
      "Banner Tow                    0.41\n",
      "External Load                 0.46\n",
      "Executive/corporate           0.49\n",
      "Ferry                         0.53\n",
      "Skydiving                     0.57\n",
      "Flight Test                   1.22\n",
      "Aerial Observation            1.30\n",
      "Other Work Use                1.35\n",
      "Positioning                   2.12\n",
      "Business                      2.43\n",
      "Aerial Application            5.17\n",
      "Instructional                14.25\n",
      "Personal                     67.55\n",
      "Name: proportion, dtype: float64\n"
     ]
    }
   ],
   "source": [
    "#Identifying the percentage contribution of each flight purplose\n",
    "avg_flight_purp = df_relevant['Purpose.of.flight'].value_counts(normalize = True, ascending = True) * 100\n",
    "print(round(avg_flight_purp,2))"
   ]
  },
  {
   "cell_type": "code",
   "execution_count": 79,
   "id": "efd7133b-8abe-4576-9454-2703e6e145d5",
   "metadata": {},
   "outputs": [
    {
     "data": {
      "image/png": "[encoded data removed]",
      "text/plain": [
       "<Figure size 640x480 with 1 Axes>"
      ]
     },
     "metadata": {},
     "output_type": "display_data"
    }
   ],
   "source": [
    "avg_flight_purp.plot(kind='barh', color = 'blue')\n",
    "plt.title('Distribution of flight purpose')\n",
    "plt.xlabel('Count')\n",
    "plt.ylabel('Purpose ')\n",
    "plt.tight_layout()\n",
    "plt.show()"
   ]
  },
  {
   "cell_type": "markdown",
   "id": "f945709b-2d5b-4ba0-ad60-0a53d5ce4f91",
   "metadata": {},
   "source": [
    "#### As from above, most people involved in these accidents were flying for personal reasons. It is expected that this makes the most of our data, precisely 67.55%. Investing in a commercial aircraft might be a better choice"
   ]
  },
  {
   "cell_type": "markdown",
   "id": "050a803c-3f41-4b83-8987-807ce00df5bb",
   "metadata": {},
   "source": [
    "#### It should also be noted that Instructional passengers also have a great contribution in the statistics, ammounting to 14% of the selected collection"
   ]
  },
  {
   "cell_type": "markdown",
   "id": "b6508cb0-3f2b-4704-9a99-fd7197c43800",
   "metadata": {},
   "source": [
    "### Identify State with the most plane crashes"
   ]
  },
  {
   "cell_type": "code",
   "execution_count": 84,
   "id": "9efa7bcc-0b0a-4353-884e-3b2cbb1edf1c",
   "metadata": {},
   "outputs": [
    {
     "data": {
      "text/plain": [
       "16882"
      ]
     },
     "execution_count": 84,
     "metadata": {},
     "output_type": "execute_result"
    }
   ],
   "source": [
    "unique_loc_count = df_relevant['Location'].value_counts().sum()\n",
    "unique_loc_count\n"
   ]
  },
  {
   "cell_type": "markdown",
   "id": "3fb88b05-ae17-44f6-b42d-105115c1082d",
   "metadata": {},
   "source": [
    "The total number of unique locations is 16,882 \n",
    "\n",
    "Next, we find the most common areas for plane crashes:"
   ]
  },
  {
   "cell_type": "code",
   "execution_count": 87,
   "id": "39910d97-6ea6-4266-a8f7-acfa60377790",
   "metadata": {},
   "outputs": [
    {
     "data": {
      "text/plain": [
       "Location\n",
       "Anchorage, AK        83\n",
       "Palmer, AK           70\n",
       "Talkeetna, AK        57\n",
       "Fairbanks, AK        56\n",
       "Phoenix, AZ          56\n",
       "                     ..\n",
       "Easton, MO            1\n",
       "Dixie, GA             1\n",
       "Thompsonville, MI     1\n",
       "Wytheville, VA        1\n",
       "Dacula, GA            1\n",
       "Name: count, Length: 7069, dtype: int64"
      ]
     },
     "execution_count": 87,
     "metadata": {},
     "output_type": "execute_result"
    }
   ],
   "source": [
    "unique_loc = df_relevant['Location'].value_counts()\n",
    "unique_loc"
   ]
  },
  {
   "cell_type": "markdown",
   "id": "92c2f8a6-6400-40d3-a8a7-288695372d14",
   "metadata": {},
   "source": [
    "We need to identify the top 10 common areas for accidents"
   ]
  },
  {
   "cell_type": "code",
   "execution_count": 90,
   "id": "0c135ede-d69a-4d18-86b9-c6d0bfd794ee",
   "metadata": {},
   "outputs": [
    {
     "data": {
      "text/plain": [
       "Location\n",
       "Anchorage, AK      83\n",
       "Palmer, AK         70\n",
       "Talkeetna, AK      57\n",
       "Fairbanks, AK      56\n",
       "Phoenix, AZ        56\n",
       "Reno, NV           45\n",
       "Houston, TX        43\n",
       "San Antonio, TX    40\n",
       "Oshkosh, WI        40\n",
       "Las Vegas, NV      40\n",
       "Name: count, dtype: int64"
      ]
     },
     "execution_count": 90,
     "metadata": {},
     "output_type": "execute_result"
    }
   ],
   "source": [
    "top_10_unique = unique_loc.head(10)\n",
    "top_10_unique"
   ]
  },
  {
   "cell_type": "markdown",
   "id": "aaec83aa-1b09-4aa8-a44f-3461654d74df",
   "metadata": {},
   "source": [
    "Let's visualize this in a plot"
   ]
  },
  {
   "cell_type": "code",
   "execution_count": 93,
   "id": "7e914c6c-abce-4edb-ab7a-277b6a5ed19f",
   "metadata": {},
   "outputs": [
    {
     "data": {
      "image/png": "[encoded data removed]",
      "text/plain": [
       "<Figure size 1000x600 with 1 Axes>"
      ]
     },
     "metadata": {},
     "output_type": "display_data"
    }
   ],
   "source": [
    "\n",
    "plt.figure(figsize = (10,6))\n",
    "top_10_unique.plot(kind='barh',color = 'green')\n",
    "plt.title('Top 10 accident areas')\n",
    "plt.xlabel('Number of crashes')\n",
    "plt.gca().invert_yaxis()\n",
    "plt.tight_layout()\n",
    "plt.show()\n",
    "           "
   ]
  },
  {
   "cell_type": "markdown",
   "id": "3515d08f-f99f-43c3-a09e-e1c13d6a77e8",
   "metadata": {},
   "source": [
    "As from above, Anchorage, Ak experienced the most accidents with 83 overral accidents\n",
    "\n",
    "Following closely was Palmer, Ak with 70"
   ]
  },
  {
   "cell_type": "markdown",
   "id": "acd6f6bf-0e6d-47d1-95b0-1afe3ac3bdac",
   "metadata": {},
   "source": [
    "### Effect of Weather Conditions to the overral safety of a flight"
   ]
  },
  {
   "cell_type": "code",
   "execution_count": 97,
   "id": "61a31b34-0171-4f09-93b4-7fb16c92ff8c",
   "metadata": {},
   "outputs": [
    {
     "data": {
      "text/plain": [
       "Weather.Condition\n",
       "VMC    16103\n",
       "IMC      718\n",
       "Unk       61\n",
       "Name: count, dtype: int64"
      ]
     },
     "execution_count": 97,
     "metadata": {},
     "output_type": "execute_result"
    }
   ],
   "source": [
    "df_relevant['Weather.Condition'].value_counts()"
   ]
  },
  {
   "cell_type": "code",
   "execution_count": 99,
   "id": "e097ec53-77c2-41e7-b16b-a35317e2391d",
   "metadata": {},
   "outputs": [
    {
     "name": "stdout",
     "output_type": "stream",
     "text": [
      "Weather.Condition\n",
      "VMC    95.39\n",
      "IMC     4.25\n",
      "Unk     0.36\n",
      "Name: proportion, dtype: float64\n"
     ]
    }
   ],
   "source": [
    "# We identify the percentage of each weather condition to the whole selected dataframe\n",
    "percentages = df_relevant['Weather.Condition'].value_counts(normalize = True) * 100\n",
    "print(round(percentages,2))"
   ]
  },
  {
   "cell_type": "markdown",
   "id": "f082a8dc-f130-4b0d-aa4f-250c0e37ebed",
   "metadata": {},
   "source": [
    "#### In this column, there are three values with different representations\n",
    "#### 1. VMC : Visual Meteorological Conditions\n",
    "\n",
    "There are clear skies and good visibility.\n",
    "\n",
    "No reliance on instruments for navigation. \n",
    "\n",
    "VMC contributes to 95.39% of the total data\n",
    "\n",
    "#### 2. IMC : Instrument Meteorological Conditions\n",
    "\n",
    "Weather conditions requiring pilots to rely on instruments for navigation\n",
    "\n",
    "Identified by poor visibility, clouds, fog and heavy precipitation\n",
    "\n",
    "Contributes to 4.25% of the collected data\n",
    "\n",
    "Conditions not suitable for visual flight\n",
    "\n",
    "#### 3. Unk : Unknown\n",
    "\n",
    "The weather condition is not reported or unknown\n",
    "\n",
    "Could mean missing data or uncertain observations\n",
    "\n",
    "Contributes the least to the data collection; 0.36%"
   ]
  },
  {
   "cell_type": "code",
   "execution_count": 102,
   "id": "c6283201-8dfc-425d-8388-690df4080fbd",
   "metadata": {},
   "outputs": [
    {
     "data": {
      "image/png": "[encoded data removed]",
      "text/plain": [
       "<Figure size 600x600 with 1 Axes>"
      ]
     },
     "metadata": {},
     "output_type": "display_data"
    }
   ],
   "source": [
    "df_relevant['Weather.Condition'].value_counts().plot.pie(autopct = '%1.1f%%', colors = ['blue','red', 'green'], figsize = (6,6))\n",
    "plt.title('Accident distribution by Weather condition')\n",
    "plt.show()\n",
    "          "
   ]
  },
  {
   "cell_type": "markdown",
   "id": "1db308e1-bc9d-4b23-833c-fbd7d9c5da2f",
   "metadata": {},
   "source": [
    "#### As from above, we can identify that most accidents have happened on perfect weather conditions, so weather conditions do not play a large part in aviation accidents.\n"
   ]
  },
  {
   "cell_type": "markdown",
   "id": "0c0549b1-3eee-442c-9784-15a22b44ecb3",
   "metadata": {},
   "source": [
    "### Do varying engine types present different risk levels"
   ]
  },
  {
   "cell_type": "code",
   "execution_count": 106,
   "id": "85ede3c1-6d09-429b-ac9c-06caf6478b74",
   "metadata": {},
   "outputs": [
    {
     "data": {
      "text/plain": [
       "Engine.Type\n",
       "Reciprocating    15110\n",
       "Turbo Prop         795\n",
       "Turbo Shaft        724\n",
       "Turbo Fan          162\n",
       "Turbo Jet           64\n",
       "Unknown             17\n",
       "Electric             6\n",
       "NONE                 2\n",
       "LR                   1\n",
       "UNK                  1\n",
       "Name: count, dtype: int64"
      ]
     },
     "execution_count": 106,
     "metadata": {},
     "output_type": "execute_result"
    }
   ],
   "source": [
    "enginetype_counts= df_relevant['Engine.Type'].value_counts()\n",
    "enginetype_counts"
   ]
  },
  {
   "cell_type": "code",
   "execution_count": 108,
   "id": "f81acd7e-6312-491a-ba09-d059219a9710",
   "metadata": {},
   "outputs": [
    {
     "data": {
      "image/png": "[encoded data removed]",
      "text/plain": [
       "<Figure size 1000x600 with 1 Axes>"
      ]
     },
     "metadata": {},
     "output_type": "display_data"
    }
   ],
   "source": [
    "plt.figure(figsize = (10,6))\n",
    "bars = plt.barh(enginetype_counts.index, enginetype_counts.values, color = 'skyblue')\n",
    "plt.xscale('log')\n",
    "plt.xlabel('Number of accidents(The power of 10)')\n",
    "plt.title('Engine types accident frequency(In the power of 10)')\n",
    "plt.tight_layout()\n",
    "plt.show()\n",
    "          "
   ]
  },
  {
   "cell_type": "markdown",
   "id": "30995af0-a33d-4d0b-bd71-85df8684b481",
   "metadata": {},
   "source": [
    "#### As from the plot, The reciprocating engine type is the most prone to accidents. The least prone engine being LR. There are a few engine types that are unknown but they have contributed to less than 1% of the data "
   ]
  },
  {
   "cell_type": "markdown",
   "id": "8666c1a0-73b2-4df9-9d15-6e2784f6be69",
   "metadata": {},
   "source": [
    "### Relationship between the number of engines in a plane and accidents"
   ]
  },
  {
   "cell_type": "code",
   "execution_count": 111,
   "id": "af3b4f34-785d-420f-945b-d7707bdfebfd",
   "metadata": {},
   "outputs": [
    {
     "data": {
      "text/plain": [
       "Number.of.Engines\n",
       "1.0    15541\n",
       "2.0     1324\n",
       "4.0        8\n",
       "3.0        4\n",
       "0.0        3\n",
       "8.0        2\n",
       "Name: count, dtype: int64"
      ]
     },
     "execution_count": 111,
     "metadata": {},
     "output_type": "execute_result"
    }
   ],
   "source": [
    "df_relevant['Number.of.Engines'].value_counts()"
   ]
  },
  {
   "cell_type": "code",
   "execution_count": 117,
   "id": "885db93f-f91b-4f8f-8f99-fccb6ef9b069",
   "metadata": {},
   "outputs": [
    {
     "name": "stdout",
     "output_type": "stream",
     "text": [
      "Number.of.Engines\n",
      "1.0    92.06\n",
      "2.0     7.84\n",
      "4.0     0.05\n",
      "3.0     0.02\n",
      "0.0     0.02\n",
      "8.0     0.01\n",
      "Name: proportion, dtype: float64\n"
     ]
    }
   ],
   "source": [
    "# calculate the contribution of each category to the overral accidents\n",
    "percentage_contribution = df_relevant['Number.of.Engines'].value_counts(normalize = True) * 100\n",
    "print(round(percentage_contribution,2))"
   ]
  },
  {
   "cell_type": "markdown",
   "id": "489a96bb-044f-4fcb-9ffc-d8de49a191fb",
   "metadata": {},
   "source": [
    "#### 92% of all the planes that were involved in an accident had a single engine\n",
    "\n",
    "#### Planes with 2 engines contributed to 7.8% of the total accidents\n",
    "\n",
    "#### planes with 3 engines had very little accidents(less than 1%) same as 4 engines and 8. \n",
    "\n",
    "#### This means that the more engines a plane has, the lower the risk"
   ]
  },
  {
   "cell_type": "markdown",
   "id": "056bb274-f036-4135-afd1-29b85e56c98a",
   "metadata": {},
   "source": [
    "### Correlation Between an airplane make and the damage"
   ]
  },
  {
   "cell_type": "code",
   "execution_count": 121,
   "id": "b4891947-8ded-490e-9d54-df555bd9f2ce",
   "metadata": {},
   "outputs": [
    {
     "data": {
      "text/plain": [
       "Aircraft.damage\n",
       "Substantial    15254\n",
       "Destroyed       1420\n",
       "Minor            202\n",
       "Unknown            6\n",
       "Name: count, dtype: int64"
      ]
     },
     "execution_count": 121,
     "metadata": {},
     "output_type": "execute_result"
    }
   ],
   "source": [
    "df_relevant['Aircraft.damage'].value_counts()"
   ]
  },
  {
   "cell_type": "markdown",
   "id": "31d1342b-ca60-4e85-aedc-faf2833feb74",
   "metadata": {},
   "source": [
    "There are 3 distinct categories of aircraft damage:\n",
    "\n",
    "#### 1. Substancial: \n",
    "This means that the damage adversely affects the aircraft's perfomance or flight characteristics.\n",
    "\n",
    "Usually require major repair or replacement\n",
    "\n",
    "### 2. Destroyed:\n",
    "The aircraft is damaged beyond repair and is totally un usable\n",
    "\n",
    "### 3. Minor Damage:\n",
    "Superficial or very little damages. no serious effect on the aircrafts structural integrity or perfomance\n",
    "\n",
    "Repairable without major work\n"
   ]
  },
  {
   "cell_type": "code",
   "execution_count": 124,
   "id": "591a6642-b147-4b3c-ab1b-9bdfb35f2eb1",
   "metadata": {},
   "outputs": [
    {
     "data": {
      "text/plain": [
       "Make\n",
       "CESSNA               4509\n",
       "PIPER                2709\n",
       "BEECH                 894\n",
       "BELL                  377\n",
       "MOONEY                252\n",
       "                     ... \n",
       "MOYES                   1\n",
       "FLOYD JOSEPH B          1\n",
       "GOTTSCHALK JOHN R       1\n",
       "EVENS                   1\n",
       "STEPHEN J HOFFMAN       1\n",
       "Name: count, Length: 2992, dtype: int64"
      ]
     },
     "execution_count": 124,
     "metadata": {},
     "output_type": "execute_result"
    }
   ],
   "source": [
    "df_relevant['Make'].value_counts()"
   ]
  },
  {
   "cell_type": "code",
   "execution_count": 126,
   "id": "e77202e5-8803-4c5d-800d-311584ca0688",
   "metadata": {},
   "outputs": [
    {
     "data": {
      "text/html": [
       "<div>\n",
       "<style scoped>\n",
       "    .dataframe tbody tr th:only-of-type {\n",
       "        vertical-align: middle;\n",
       "    }\n",
       "\n",
       "    .dataframe tbody tr th {\n",
       "        vertical-align: top;\n",
       "    }\n",
       "\n",
       "    .dataframe thead th {\n",
       "        text-align: right;\n",
       "    }\n",
       "</style>\n",
       "<table border=\"1\" class=\"dataframe\">\n",
       "  <thead>\n",
       "    <tr style=\"text-align: right;\">\n",
       "      <th>Aircraft.damage</th>\n",
       "      <th>Destroyed</th>\n",
       "      <th>Minor</th>\n",
       "      <th>Substantial</th>\n",
       "      <th>Unknown</th>\n",
       "    </tr>\n",
       "    <tr>\n",
       "      <th>Make</th>\n",
       "      <th></th>\n",
       "      <th></th>\n",
       "      <th></th>\n",
       "      <th></th>\n",
       "    </tr>\n",
       "  </thead>\n",
       "  <tbody>\n",
       "    <tr>\n",
       "      <th>177MF LLC</th>\n",
       "      <td>0</td>\n",
       "      <td>0</td>\n",
       "      <td>1</td>\n",
       "      <td>0</td>\n",
       "    </tr>\n",
       "    <tr>\n",
       "      <th>2007 SAVAGE AIR LLC</th>\n",
       "      <td>0</td>\n",
       "      <td>1</td>\n",
       "      <td>0</td>\n",
       "      <td>0</td>\n",
       "    </tr>\n",
       "    <tr>\n",
       "      <th>2021FX3 LLC</th>\n",
       "      <td>0</td>\n",
       "      <td>0</td>\n",
       "      <td>1</td>\n",
       "      <td>0</td>\n",
       "    </tr>\n",
       "    <tr>\n",
       "      <th>781569 INC</th>\n",
       "      <td>0</td>\n",
       "      <td>0</td>\n",
       "      <td>1</td>\n",
       "      <td>0</td>\n",
       "    </tr>\n",
       "    <tr>\n",
       "      <th>AARDEMA ROBERT JOHN</th>\n",
       "      <td>0</td>\n",
       "      <td>0</td>\n",
       "      <td>1</td>\n",
       "      <td>0</td>\n",
       "    </tr>\n",
       "    <tr>\n",
       "      <th>...</th>\n",
       "      <td>...</td>\n",
       "      <td>...</td>\n",
       "      <td>...</td>\n",
       "      <td>...</td>\n",
       "    </tr>\n",
       "    <tr>\n",
       "      <th>ZIVKO AERONAUTICS INC</th>\n",
       "      <td>0</td>\n",
       "      <td>0</td>\n",
       "      <td>1</td>\n",
       "      <td>0</td>\n",
       "    </tr>\n",
       "    <tr>\n",
       "      <th>ZLIN</th>\n",
       "      <td>0</td>\n",
       "      <td>0</td>\n",
       "      <td>2</td>\n",
       "      <td>0</td>\n",
       "    </tr>\n",
       "    <tr>\n",
       "      <th>ZLIN AVIATION</th>\n",
       "      <td>0</td>\n",
       "      <td>0</td>\n",
       "      <td>1</td>\n",
       "      <td>0</td>\n",
       "    </tr>\n",
       "    <tr>\n",
       "      <th>ZUBAIR S KHAN</th>\n",
       "      <td>0</td>\n",
       "      <td>0</td>\n",
       "      <td>1</td>\n",
       "      <td>0</td>\n",
       "    </tr>\n",
       "    <tr>\n",
       "      <th>ZWICKER MURRAY R</th>\n",
       "      <td>0</td>\n",
       "      <td>0</td>\n",
       "      <td>1</td>\n",
       "      <td>0</td>\n",
       "    </tr>\n",
       "  </tbody>\n",
       "</table>\n",
       "<p>2992 rows × 4 columns</p>\n",
       "</div>"
      ],
      "text/plain": [
       "Aircraft.damage        Destroyed  Minor  Substantial  Unknown\n",
       "Make                                                         \n",
       "177MF LLC                      0      0            1        0\n",
       "2007 SAVAGE AIR LLC            0      1            0        0\n",
       "2021FX3 LLC                    0      0            1        0\n",
       "781569 INC                     0      0            1        0\n",
       "AARDEMA ROBERT JOHN            0      0            1        0\n",
       "...                          ...    ...          ...      ...\n",
       "ZIVKO AERONAUTICS INC          0      0            1        0\n",
       "ZLIN                           0      0            2        0\n",
       "ZLIN AVIATION                  0      0            1        0\n",
       "ZUBAIR S KHAN                  0      0            1        0\n",
       "ZWICKER MURRAY R               0      0            1        0\n",
       "\n",
       "[2992 rows x 4 columns]"
      ]
     },
     "execution_count": 126,
     "metadata": {},
     "output_type": "execute_result"
    }
   ],
   "source": [
    "#We create a cross table for vuisualizing the results\n",
    "damage = pd.crosstab(df_relevant['Make'], df_relevant['Aircraft.damage'])\n",
    "damage"
   ]
  },
  {
   "cell_type": "code",
   "execution_count": 128,
   "id": "0e9c9d97-5804-4d63-a9be-c9d39de730fe",
   "metadata": {},
   "outputs": [
    {
     "data": {
      "text/html": [
       "<div>\n",
       "<style scoped>\n",
       "    .dataframe tbody tr th:only-of-type {\n",
       "        vertical-align: middle;\n",
       "    }\n",
       "\n",
       "    .dataframe tbody tr th {\n",
       "        vertical-align: top;\n",
       "    }\n",
       "\n",
       "    .dataframe thead th {\n",
       "        text-align: right;\n",
       "    }\n",
       "</style>\n",
       "<table border=\"1\" class=\"dataframe\">\n",
       "  <thead>\n",
       "    <tr style=\"text-align: right;\">\n",
       "      <th>Aircraft.damage</th>\n",
       "      <th>Destroyed</th>\n",
       "      <th>Minor</th>\n",
       "      <th>Substantial</th>\n",
       "      <th>Unknown</th>\n",
       "    </tr>\n",
       "  </thead>\n",
       "  <tbody>\n",
       "    <tr>\n",
       "      <th>count</th>\n",
       "      <td>2992.000000</td>\n",
       "      <td>2992.000000</td>\n",
       "      <td>2992.000000</td>\n",
       "      <td>2992.000000</td>\n",
       "    </tr>\n",
       "    <tr>\n",
       "      <th>mean</th>\n",
       "      <td>0.474599</td>\n",
       "      <td>0.067513</td>\n",
       "      <td>5.098262</td>\n",
       "      <td>0.002005</td>\n",
       "    </tr>\n",
       "    <tr>\n",
       "      <th>std</th>\n",
       "      <td>7.275908</td>\n",
       "      <td>0.890599</td>\n",
       "      <td>90.440427</td>\n",
       "      <td>0.051679</td>\n",
       "    </tr>\n",
       "    <tr>\n",
       "      <th>min</th>\n",
       "      <td>0.000000</td>\n",
       "      <td>0.000000</td>\n",
       "      <td>0.000000</td>\n",
       "      <td>0.000000</td>\n",
       "    </tr>\n",
       "    <tr>\n",
       "      <th>25%</th>\n",
       "      <td>0.000000</td>\n",
       "      <td>0.000000</td>\n",
       "      <td>1.000000</td>\n",
       "      <td>0.000000</td>\n",
       "    </tr>\n",
       "    <tr>\n",
       "      <th>50%</th>\n",
       "      <td>0.000000</td>\n",
       "      <td>0.000000</td>\n",
       "      <td>1.000000</td>\n",
       "      <td>0.000000</td>\n",
       "    </tr>\n",
       "    <tr>\n",
       "      <th>75%</th>\n",
       "      <td>0.000000</td>\n",
       "      <td>0.000000</td>\n",
       "      <td>1.000000</td>\n",
       "      <td>0.000000</td>\n",
       "    </tr>\n",
       "    <tr>\n",
       "      <th>max</th>\n",
       "      <td>289.000000</td>\n",
       "      <td>39.000000</td>\n",
       "      <td>4179.000000</td>\n",
       "      <td>2.000000</td>\n",
       "    </tr>\n",
       "  </tbody>\n",
       "</table>\n",
       "</div>"
      ],
      "text/plain": [
       "Aircraft.damage    Destroyed        Minor  Substantial      Unknown\n",
       "count            2992.000000  2992.000000  2992.000000  2992.000000\n",
       "mean                0.474599     0.067513     5.098262     0.002005\n",
       "std                 7.275908     0.890599    90.440427     0.051679\n",
       "min                 0.000000     0.000000     0.000000     0.000000\n",
       "25%                 0.000000     0.000000     1.000000     0.000000\n",
       "50%                 0.000000     0.000000     1.000000     0.000000\n",
       "75%                 0.000000     0.000000     1.000000     0.000000\n",
       "max               289.000000    39.000000  4179.000000     2.000000"
      ]
     },
     "execution_count": 128,
     "metadata": {},
     "output_type": "execute_result"
    }
   ],
   "source": [
    "damage.describe()"
   ]
  },
  {
   "cell_type": "markdown",
   "id": "532d4c4c-68d4-4f24-87b7-8321a8278db0",
   "metadata": {},
   "source": [
    "#### As from above, we can see that most crashes had a substancial impact on mostly all planes. There is a very little relationship between the degree of damage and the make of the aircraft."
   ]
  },
  {
   "cell_type": "code",
   "execution_count": 131,
   "id": "0b2f2223-da88-428b-a9f1-bf50105cf36d",
   "metadata": {},
   "outputs": [
    {
     "data": {
      "image/png": "[encoded data removed]",
      "text/plain": [
       "<Figure size 1000x600 with 1 Axes>"
      ]
     },
     "metadata": {},
     "output_type": "display_data"
    }
   ],
   "source": [
    "plt.figure(figsize=(10,6))\n",
    "sns.countplot(data= df_relevant.head(10), x= 'Make', hue= 'Aircraft.damage', palette='Set2')\n",
    "plt.title('Aircraft Damage by make')\n",
    "plt.xlabel('Aircraft Make')\n",
    "plt.ylabel('Number of incidents')\n",
    "plt.xticks(rotation = 45)\n",
    "plt.legend(title= 'Damage type')\n",
    "plt.tight_layout()\n",
    "plt.show()"
   ]
  },
  {
   "cell_type": "markdown",
   "id": "b26b627d-d877-48a1-a3b9-818cd78bc291",
   "metadata": {},
   "source": [
    "#### There is no visible correlation between an aircraft make and the impact of damage"
   ]
  },
  {
   "cell_type": "markdown",
   "id": "0c355472-7d40-4490-9844-b107e24d31a5",
   "metadata": {},
   "source": [
    "### We also need to identify if there are certain airplane makes that are prone to accidents than others. This will help the company identify what makes to avoid and which to concider. "
   ]
  },
  {
   "cell_type": "code",
   "execution_count": 135,
   "id": "e407ec14-783c-4ff6-be00-bb1cae665e08",
   "metadata": {},
   "outputs": [
    {
     "data": {
      "text/plain": [
       "Make\n",
       "CESSNA               4509\n",
       "PIPER                2709\n",
       "BEECH                 894\n",
       "BELL                  377\n",
       "MOONEY                252\n",
       "                     ... \n",
       "MOYES                   1\n",
       "FLOYD JOSEPH B          1\n",
       "GOTTSCHALK JOHN R       1\n",
       "EVENS                   1\n",
       "STEPHEN J HOFFMAN       1\n",
       "Name: count, Length: 2992, dtype: int64"
      ]
     },
     "execution_count": 135,
     "metadata": {},
     "output_type": "execute_result"
    }
   ],
   "source": [
    "makes = df_relevant['Make'].value_counts()\n",
    "makes"
   ]
  },
  {
   "cell_type": "code",
   "execution_count": 137,
   "id": "5a1a6e34-f583-493b-b685-67c23e3baa7d",
   "metadata": {},
   "outputs": [
    {
     "data": {
      "text/plain": [
       "26.70892074398768"
      ]
     },
     "execution_count": 137,
     "metadata": {},
     "output_type": "execute_result"
    }
   ],
   "source": [
    "(4509/makes.sum())* 100"
   ]
  },
  {
   "cell_type": "code",
   "execution_count": 139,
   "id": "4d9651a3-e331-4cc5-8a87-16172eb4aa73",
   "metadata": {},
   "outputs": [
    {
     "data": {
      "text/plain": [
       "16.046676934012556"
      ]
     },
     "execution_count": 139,
     "metadata": {},
     "output_type": "execute_result"
    }
   ],
   "source": [
    "(2709/makes.sum())*100"
   ]
  },
  {
   "cell_type": "code",
   "execution_count": 141,
   "id": "a1393886-1f9f-4bc5-9e49-e336ced5f44f",
   "metadata": {},
   "outputs": [
    {
     "data": {
      "text/plain": [
       "Make\n",
       "CESSNA                 4509\n",
       "PIPER                  2709\n",
       "BEECH                   894\n",
       "BELL                    377\n",
       "MOONEY                  252\n",
       "ROBINSON HELICOPTER     197\n",
       "ROBINSON                177\n",
       "AIR TRACTOR INC         174\n",
       "CIRRUS DESIGN CORP      167\n",
       "BELLANCA                159\n",
       "Name: count, dtype: int64"
      ]
     },
     "execution_count": 141,
     "metadata": {},
     "output_type": "execute_result"
    }
   ],
   "source": [
    "bottom_10_makes = makes.head(10)\n",
    "bottom_10_makes"
   ]
  },
  {
   "cell_type": "code",
   "execution_count": 143,
   "id": "fcb4deab-e740-40fa-bcd8-9eeea3b5466b",
   "metadata": {},
   "outputs": [
    {
     "data": {
      "text/plain": [
       "Make\n",
       "SKY INTERNATIONAL, INC.    1\n",
       "NICHOLSON                  1\n",
       "POLARIS                    1\n",
       "MILLS                      1\n",
       "QUASAR ACFT CO LLC         1\n",
       "MOYES                      1\n",
       "FLOYD JOSEPH B             1\n",
       "GOTTSCHALK JOHN R          1\n",
       "EVENS                      1\n",
       "STEPHEN J HOFFMAN          1\n",
       "Name: count, dtype: int64"
      ]
     },
     "execution_count": 143,
     "metadata": {},
     "output_type": "execute_result"
    }
   ],
   "source": [
    "top_10_makes = makes.tail(10)\n",
    "top_10_makes"
   ]
  },
  {
   "cell_type": "code",
   "execution_count": null,
   "id": "3023cd7d-e699-4a3b-bc10-f4a8f3fd90bc",
   "metadata": {},
   "outputs": [],
   "source": []
  },
  {
   "cell_type": "code",
   "execution_count": 146,
   "id": "6798bac9-2d52-4671-9968-f4ef36cc7b37",
   "metadata": {},
   "outputs": [
    {
     "data": {
      "image/png": "[encoded data removed]",
      "text/plain": [
       "<Figure size 1000x600 with 2 Axes>"
      ]
     },
     "metadata": {},
     "output_type": "display_data"
    }
   ],
   "source": [
    "fig, axes = plt.subplots(1,2, figsize =(10,6), sharey = True)\n",
    "axes[0].barh(top_10_makes.index[::-1], top_10_makes.values[::-1], color = 'green')\n",
    "axes[0].set_title('Top 10 Aircraft makes')\n",
    "axes[0].set_xlabel('Count')\n",
    "axes[0].invert_yaxis()\n",
    "\n",
    "axes[1].barh(bottom_10_makes.index[::-1], bottom_10_makes.values[::-1], color = 'cyan')\n",
    "axes[1].set_title('Bottom 10 makes')\n",
    "axes[1].set_xlabel('Count')\n",
    "axes[1].invert_yaxis()\n",
    "\n",
    "plt.tight_layout()\n",
    "plt.show()\n",
    "\n",
    "                   \n",
    "\n"
   ]
  },
  {
   "cell_type": "markdown",
   "id": "1ccdc036-2b46-495c-bd0e-195b38d07fd2",
   "metadata": {},
   "source": [
    "#### The aircraft make which is most prone to accidents is the cessna, with accidents ammounting to 4,509 in our sample data, contributing to 26.7% of all the accidents\n",
    "\n",
    "#### Closely following is  the piper, contributing to 16% of all the accidents in our sample"
   ]
  },
  {
   "cell_type": "markdown",
   "id": "e88a0c10-3e59-4dfe-b35d-7498d390e460",
   "metadata": {},
   "source": [
    "#### Some of the least prone planes are STEPHEN J HOFFMAN and EVENS. However, it should be noted that these plane makes are not very common, which means that the probability to be involved in an accident is very low, unlike the Cessna and the Piper"
   ]
  },
  {
   "cell_type": "markdown",
   "id": "de61e351-ba47-42f3-bce7-392441dfa362",
   "metadata": {},
   "source": [
    "This sample data will be saved as an excel file for more visualizations in Tableau\n"
   ]
  },
  {
   "cell_type": "markdown",
   "id": "5ac5c0ad-92e6-4209-93ff-d292882c0ced",
   "metadata": {},
   "source": [
    "## Findings\n",
    "\n",
    "- In the first decade (1990's), accidents we significantly low, displaying 6 accidents in the decade. Air as a means of transport was not adopted then\n",
    "- An 18.4% increase in accidents was witnessed in the second decade (2000's). Air was becoming more popular among people and industries, but the safety measures were neglected.\n",
    "- As we transitioned to the third decade, accidents significantly increased (54.3% increase). Air as a means of transport was highly adapted and many aircraft companies were established then. However, there were still few safety measures and  everyone was racing for profits thus the 'spiked' rate of accidents.\n",
    "- A 64.2% drop in accidents was seen as we transitioned to the present decade. High policies were implemented and human life is prioritised more than anything else. This is a very positive step towards a safer future in air travel.\n",
    "- Most accidents happen in perfect weather conditions. This is to show that weather conditions have a very low impact on plane crashes and accidents\n",
    "- Some locations, like Alaska in USA have been prone to accidents with Anchorage experiencing over 83 accidents. This can be attributed to the snowy weather conditions which are prevalent in those areas\n",
    "- Damage impact has no significant relation with the make of the aircraft.\n",
    "- The more the engines in a plane the fewer the chances of being involved in an accident. planes with 1 engine have contributed to 92% of the accidents. That's quite a significant number.\n",
    "- The Reciprocating engine is the most prone to accidents. This engine alone contributed to over 90% of the total accidents\n",
    "-  The aircraft make which is most prone to accidents is the Cessna, with accidents amounting to 4,509 in our sample data, contributing to 26.7% of all the accidents\n",
    "-  The Piper make contributes to 16% of the accidents.\n",
    "-  Some very obscure makes of planes and aircrafts are the least in terms of accidents. This does not necessarily mean that they are safe. Maybe their scarcity is the cause of their little contribution to the statistics\n",
    "- Most people that use air as a mode of transport are flying either due to personal reason or instructional reasons"
   ]
  },
  {
   "cell_type": "markdown",
   "id": "11d33506-396b-40e1-b46a-4a5a25c862bf",
   "metadata": {},
   "source": [
    "## Reccomendations\n",
    "1. Concider purchasing aircraft makes like Robinson and Beech, which mantain a balance between popularity and safety\n",
    "2. Twin engine planes are the best. Their prices are fairly reasonable and the safety is topnotch\n",
    "3. Routes are a key concideration, so avoiding routes like Alaska, USA might play a huge part in reducing risk\n",
    "4. UNK and electric engines might be a better choice. Avoid the reciprocating engine\n",
    "5. Now is the best time in history for a company that wants to invest in the aviation industry"
   ]
  },
  {
   "cell_type": "markdown",
   "id": "cbcb09ca-4ae2-4cc4-895a-a8d4a530e01c",
   "metadata": {},
   "source": [
    "# Conclussion\n",
    "Air travel has never been safer than it is now. With so many policies put foward and the high regard for human right, the air space has become very safe and convenient for travel.\n",
    "\n",
    "Accidents are said to be part of nature. It is not in any person's capability to control that. However, calculated statistics help us minimise the likelihood of such to happen in the future.\n",
    "\n",
    "We need to also sensitize our staff to adapt safety measures like checking for technical defects, system malfunctions and any other faults before takeoff. They are also advised to mantain a high discipline.\n",
    "\n",
    "With every accident that has happened, a safety measure has been implemented to avoid another loss of life for the same cause.\n",
    "\n",
    "In conclussion, aviation industry is becoming safer and more profitable with time, and this business should concider investing in the industry"
   ]
  },
  {
   "cell_type": "code",
   "execution_count": 154,
   "id": "3de3998f-567b-4631-9024-0121c748b020",
   "metadata": {},
   "outputs": [],
   "source": [
    "#Saves the data locally\n",
    "df_relevant.to_excel('aviationR_data.xlsx', index = False)\n"
   ]
  }
 ],
 "metadata": {
  "kernelspec": {
   "display_name": "Python [conda env:base] *",
   "language": "python",
   "name": "conda-base-py"
  },
  "language_info": {
   "codemirror_mode": {
    "name": "ipython",
    "version": 3
   },
   "file_extension": ".py",
   "mimetype": "text/x-python",
   "name": "python",
   "nbconvert_exporter": "python",
   "pygments_lexer": "ipython3",
   "version": "3.12.7"
  }
 },
 "nbformat": 4,
 "nbformat_minor": 5
}
